{
 "cells": [
  {
   "cell_type": "code",
   "execution_count": 23,
   "metadata": {},
   "outputs": [],
   "source": [
    "import random"
   ]
  },
  {
   "cell_type": "code",
   "execution_count": 24,
   "metadata": {},
   "outputs": [],
   "source": [
    "random_chromosome = lambda size: [random.randint(1,size) for _ in range(size)]\n",
    "random_chromosome.__doc__='making random chromosomes'"
   ]
  },
  {
   "cell_type": "code",
   "execution_count": 25,
   "metadata": {},
   "outputs": [],
   "source": [
    "def fitness(chromosome,maxFitness=None):\n",
    "    n = len(chromosome)\n",
    "    if maxFitness==None:\n",
    "        maxFitness=(n*(n-1))/2\n",
    "    horizontal_collisions = sum([chromosome.count(queen)-1 for queen in chromosome])/2\n",
    "\n",
    "    left_diagonal=[0]*(2*n)\n",
    "    right_diagonal=[0]*(2*n)\n",
    "    for index,chrom in enumerate(chromosome):\n",
    "        left_diagonal[index+chrom-1]+=1\n",
    "        right_diagonal[n-index+chrom-2]+=1\n",
    "\n",
    "    diagonal_collisions = 0\n",
    "    for i in range(2*n-1):\n",
    "        counter = 0\n",
    "        if left_diagonal[i]  > 1: counter += left_diagonal[i]-1\n",
    "        if right_diagonal[i] > 1: counter += right_diagonal[i]-1\n",
    "        diagonal_collisions+= counter / (n-abs(i-n+1))\n",
    "\n",
    "    return int(maxFitness-(horizontal_collisions + diagonal_collisions))"
   ]
  },
  {
   "cell_type": "code",
   "execution_count": 26,
   "metadata": {},
   "outputs": [],
   "source": [
    "probability=lambda chromosome, fitness,maxFitness=1: fitness(chromosome)/maxFitness\n"
   ]
  },
  {
   "cell_type": "code",
   "execution_count": 27,
   "metadata": {},
   "outputs": [],
   "source": [
    "def random_pick(population, probabilities):\n",
    "    # tmp={tuple(i):j for i,j in zip(population, probabilities)}\n",
    "    # return list(max(tmp,key=lambda x:tmp[x]))\n",
    "    r = sum(probabilities)*random.random()\n",
    "    upto = 0\n",
    "    for c, w in zip(population, probabilities):\n",
    "        upto+=w\n",
    "        if upto>=r: return c\n",
    "    raise RuntimeError(\"This is unreachable state :(\")\n"
   ]
  },
  {
   "cell_type": "code",
   "execution_count": 28,
   "metadata": {},
   "outputs": [],
   "source": [
    "def reproduce(x, y):\n",
    "    assert len(x)==len(y)\n",
    "    '''doing cross_over between two chromosomes'''\n",
    "    c = random.randint(0,len(x)-1)\n",
    "    return x[:c]+y[c:]\n",
    "\n"
   ]
  },
  {
   "cell_type": "code",
   "execution_count": 29,
   "metadata": {},
   "outputs": [],
   "source": [
    "def mutate(x):\n",
    "    '''randomly changing the value of a random index of a chromosome'''\n",
    "    n = len(x)\n",
    "    x[random.randint(0,n-1)]=random.randint(1,n)\n",
    "    return x"
   ]
  },
  {
   "cell_type": "code",
   "execution_count": 30,
   "metadata": {},
   "outputs": [],
   "source": [
    "def genetic_queen(population, fitness,maxFitness):\n",
    "    \n",
    "    mutationProbability = 0.03\n",
    "    new_population = []\n",
    "    \n",
    "    probabilities = [probability(n, fitness,maxFitness) for n in population]\n",
    "    \n",
    "    for _ in population:\n",
    "        \n",
    "        x = random_pick(population, probabilities) #best chromosome 1\n",
    "        y = random_pick(population, probabilities) #best chromosome 2\n",
    "        \n",
    "        child = reproduce(x, y) #creating two new chromosomes from the best 2 chromosomes\n",
    "        \n",
    "        if random.random() < mutationProbability:\n",
    "            \n",
    "            child = mutate(child)\n",
    "            \n",
    "        new_population.append(child)\n",
    "        \n",
    "        if fitness(child) == maxFitness: break\n",
    "            \n",
    "    return new_population\n"
   ]
  },
  {
   "cell_type": "code",
   "execution_count": 31,
   "metadata": {},
   "outputs": [],
   "source": [
    "def main(nq,initialPopulation=100):\n",
    "    \n",
    "    maxFitness = (nq*(nq-1))/2\n",
    "    \n",
    "    generationCount = 1\n",
    "    \n",
    "    population = [random_chromosome(nq) for _ in range(initialPopulation)]\n",
    "    \n",
    "    while not maxFitness in [fitness(chrom) for chrom in population]:\n",
    "        # new generation starts\n",
    "        population = genetic_queen(population, fitness,maxFitness)\n",
    "        generationCount += 1\n",
    "    generationCount-=1\n",
    "    for chrom in population:\n",
    "        if fitness(chrom) == maxFitness:\n",
    "            return \"\\n\".join('x '*(i-1)+'Q '+'x '*(nq-i) for i in chrom),generationCount\n"
   ]
  },
  {
   "cell_type": "code",
   "execution_count": 32,
   "metadata": {},
   "outputs": [
    {
     "name": "stdout",
     "output_type": "stream",
     "text": [
      "Enter Number of Queens: 5\n",
      "x x x x Q \n",
      "x Q x x x \n",
      "x x x Q x \n",
      "Q x x x x \n",
      "x x Q x x \n",
      "\n",
      "solution found after 8 generations\n"
     ]
    }
   ],
   "source": [
    "\n",
    "if __name__ == \"__main__\":\n",
    "    TABLE_SIZE = int(input(\"Enter Number of Queens: \"))\n",
    "    \n",
    "print(\"{}\\n\\nsolution found after {} generations\".format(*main(TABLE_SIZE)))\n"
   ]
  },
  {
   "cell_type": "code",
   "execution_count": null,
   "metadata": {},
   "outputs": [],
   "source": []
  }
 ],
 "metadata": {
  "kernelspec": {
   "display_name": "Python 3",
   "language": "python",
   "name": "python3"
  },
  "language_info": {
   "codemirror_mode": {
    "name": "ipython",
    "version": 3
   },
   "file_extension": ".py",
   "mimetype": "text/x-python",
   "name": "python",
   "nbconvert_exporter": "python",
   "pygments_lexer": "ipython3",
   "version": "3.8.3"
  }
 },
 "nbformat": 4,
 "nbformat_minor": 4
}
